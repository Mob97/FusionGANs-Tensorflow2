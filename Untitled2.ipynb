{
 "cells": [
  {
   "cell_type": "code",
   "execution_count": 2,
   "metadata": {},
   "outputs": [],
   "source": [
    "import cv2\n",
    "import tensorflow as tf\n",
    "import os\n",
    "import numpy as np\n",
    "from net import Generator\n",
    "import time\n",
    "from preprocess import imsave\n",
    "from metrics import *"
   ]
  },
  {
   "cell_type": "code",
   "execution_count": 3,
   "metadata": {},
   "outputs": [],
   "source": [
    "def preprocessing(ir_img, vi_img):\n",
    "    padding=6    \n",
    "    \n",
    "    # ir_img = cv2.cvtColor(ir_img, cv2.COLOR_BGR2YCrCb)\n",
    "    ir_img = ir_img[:, :, 0]\n",
    "    ir_img = (ir_img - 127.5)/127.5\n",
    "    ir_img = np.pad(ir_img,((padding,padding),(padding,padding)),'edge')[None, ..., None]\n",
    "\n",
    "    # vi_img = cv2.cvtColor(vi_img, cv2.COLOR_BGR2YCrCb)\n",
    "    vi_img = vi_img[:, :, 0]\n",
    "    vi_img = (vi_img - 127.5)/127.5    \n",
    "    vi_img = np.pad(vi_img,((padding,padding),(padding,padding)),'edge')[None, ..., None]\n",
    "    return ir_img, vi_img"
   ]
  },
  {
   "cell_type": "code",
   "execution_count": null,
   "metadata": {},
   "outputs": [],
   "source": []
  }
 ],
 "metadata": {
  "kernelspec": {
   "display_name": "Python 3",
   "language": "python",
   "name": "python3"
  },
  "language_info": {
   "codemirror_mode": {
    "name": "ipython",
    "version": 3
   },
   "file_extension": ".py",
   "mimetype": "text/x-python",
   "name": "python",
   "nbconvert_exporter": "python",
   "pygments_lexer": "ipython3",
   "version": "3.7.0"
  }
 },
 "nbformat": 4,
 "nbformat_minor": 2
}
